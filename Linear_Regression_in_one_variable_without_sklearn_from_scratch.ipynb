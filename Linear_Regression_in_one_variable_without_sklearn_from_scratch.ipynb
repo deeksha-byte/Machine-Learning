{
  "nbformat": 4,
  "nbformat_minor": 0,
  "metadata": {
    "colab": {
      "provenance": [],
      "authorship_tag": "ABX9TyM94m3BOJGfG4jl1REc8+Qp",
      "include_colab_link": true
    },
    "kernelspec": {
      "name": "python3",
      "display_name": "Python 3"
    },
    "language_info": {
      "name": "python"
    }
  },
  "cells": [
    {
      "cell_type": "markdown",
      "metadata": {
        "id": "view-in-github",
        "colab_type": "text"
      },
      "source": [
        "<a href=\"https://colab.research.google.com/github/deeksha-byte/Machine-Learning/blob/main/Linear_Regression_in_one_variable_without_sklearn_from_scratch.ipynb\" target=\"_parent\"><img src=\"https://colab.research.google.com/assets/colab-badge.svg\" alt=\"Open In Colab\"/></a>"
      ]
    },
    {
      "cell_type": "code",
      "execution_count": 30,
      "metadata": {
        "colab": {
          "base_uri": "https://localhost:8080/"
        },
        "id": "oNrCnzhUgWTY",
        "outputId": "cbef852a-a8aa-4d22-98f9-b203983ecfc3"
      },
      "outputs": [
        {
          "output_type": "stream",
          "name": "stdout",
          "text": [
            "Drive already mounted at /content/drive; to attempt to forcibly remount, call drive.mount(\"/content/drive\", force_remount=True).\n"
          ]
        }
      ],
      "source": [
        "from google.colab import drive\n",
        "drive.mount('/content/drive')"
      ]
    },
    {
      "cell_type": "code",
      "source": [
        "!pip install utils"
      ],
      "metadata": {
        "colab": {
          "base_uri": "https://localhost:8080/"
        },
        "id": "oz0EgMTth3gb",
        "outputId": "834dea9d-32e4-47a2-9f80-f5b2f6a1ed97"
      },
      "execution_count": 31,
      "outputs": [
        {
          "output_type": "stream",
          "name": "stdout",
          "text": [
            "Looking in indexes: https://pypi.org/simple, https://us-python.pkg.dev/colab-wheels/public/simple/\n",
            "Requirement already satisfied: utils in /usr/local/lib/python3.10/dist-packages (1.0.1)\n"
          ]
        }
      ]
    },
    {
      "cell_type": "code",
      "source": [
        "import pandas as pd\n",
        "import numpy as np\n",
        "import matplotlib.pyplot as plt\n",
        "from utils import *\n",
        "import copy\n",
        "import math\n",
        "%matplotlib inline"
      ],
      "metadata": {
        "id": "eOeh6FcBgYsM"
      },
      "execution_count": 32,
      "outputs": []
    },
    {
      "cell_type": "code",
      "source": [
        "dataset = pd.read_csv('/content/drive/MyDrive/linear_reg_dataset.txt', delimiter = ',', names = ['col1', 'col2'])\n",
        "dataset"
      ],
      "metadata": {
        "colab": {
          "base_uri": "https://localhost:8080/",
          "height": 424
        },
        "id": "aGx1j21zgY4-",
        "outputId": "b73dcf84-1126-44ae-ca6a-c4fda14fd7d4"
      },
      "execution_count": 58,
      "outputs": [
        {
          "output_type": "execute_result",
          "data": {
            "text/plain": [
              "       col1      col2\n",
              "0    6.1101  17.59200\n",
              "1    5.5277   9.13020\n",
              "2    8.5186  13.66200\n",
              "3    7.0032  11.85400\n",
              "4    5.8598   6.82330\n",
              "..      ...       ...\n",
              "92   5.8707   7.20290\n",
              "93   5.3054   1.98690\n",
              "94   8.2934   0.14454\n",
              "95  13.3940   9.05510\n",
              "96   5.4369   0.61705\n",
              "\n",
              "[97 rows x 2 columns]"
            ],
            "text/html": [
              "\n",
              "  <div id=\"df-c88b88b7-266b-4cbe-9e65-72df02f8980d\">\n",
              "    <div class=\"colab-df-container\">\n",
              "      <div>\n",
              "<style scoped>\n",
              "    .dataframe tbody tr th:only-of-type {\n",
              "        vertical-align: middle;\n",
              "    }\n",
              "\n",
              "    .dataframe tbody tr th {\n",
              "        vertical-align: top;\n",
              "    }\n",
              "\n",
              "    .dataframe thead th {\n",
              "        text-align: right;\n",
              "    }\n",
              "</style>\n",
              "<table border=\"1\" class=\"dataframe\">\n",
              "  <thead>\n",
              "    <tr style=\"text-align: right;\">\n",
              "      <th></th>\n",
              "      <th>col1</th>\n",
              "      <th>col2</th>\n",
              "    </tr>\n",
              "  </thead>\n",
              "  <tbody>\n",
              "    <tr>\n",
              "      <th>0</th>\n",
              "      <td>6.1101</td>\n",
              "      <td>17.59200</td>\n",
              "    </tr>\n",
              "    <tr>\n",
              "      <th>1</th>\n",
              "      <td>5.5277</td>\n",
              "      <td>9.13020</td>\n",
              "    </tr>\n",
              "    <tr>\n",
              "      <th>2</th>\n",
              "      <td>8.5186</td>\n",
              "      <td>13.66200</td>\n",
              "    </tr>\n",
              "    <tr>\n",
              "      <th>3</th>\n",
              "      <td>7.0032</td>\n",
              "      <td>11.85400</td>\n",
              "    </tr>\n",
              "    <tr>\n",
              "      <th>4</th>\n",
              "      <td>5.8598</td>\n",
              "      <td>6.82330</td>\n",
              "    </tr>\n",
              "    <tr>\n",
              "      <th>...</th>\n",
              "      <td>...</td>\n",
              "      <td>...</td>\n",
              "    </tr>\n",
              "    <tr>\n",
              "      <th>92</th>\n",
              "      <td>5.8707</td>\n",
              "      <td>7.20290</td>\n",
              "    </tr>\n",
              "    <tr>\n",
              "      <th>93</th>\n",
              "      <td>5.3054</td>\n",
              "      <td>1.98690</td>\n",
              "    </tr>\n",
              "    <tr>\n",
              "      <th>94</th>\n",
              "      <td>8.2934</td>\n",
              "      <td>0.14454</td>\n",
              "    </tr>\n",
              "    <tr>\n",
              "      <th>95</th>\n",
              "      <td>13.3940</td>\n",
              "      <td>9.05510</td>\n",
              "    </tr>\n",
              "    <tr>\n",
              "      <th>96</th>\n",
              "      <td>5.4369</td>\n",
              "      <td>0.61705</td>\n",
              "    </tr>\n",
              "  </tbody>\n",
              "</table>\n",
              "<p>97 rows × 2 columns</p>\n",
              "</div>\n",
              "      <button class=\"colab-df-convert\" onclick=\"convertToInteractive('df-c88b88b7-266b-4cbe-9e65-72df02f8980d')\"\n",
              "              title=\"Convert this dataframe to an interactive table.\"\n",
              "              style=\"display:none;\">\n",
              "        \n",
              "  <svg xmlns=\"http://www.w3.org/2000/svg\" height=\"24px\"viewBox=\"0 0 24 24\"\n",
              "       width=\"24px\">\n",
              "    <path d=\"M0 0h24v24H0V0z\" fill=\"none\"/>\n",
              "    <path d=\"M18.56 5.44l.94 2.06.94-2.06 2.06-.94-2.06-.94-.94-2.06-.94 2.06-2.06.94zm-11 1L8.5 8.5l.94-2.06 2.06-.94-2.06-.94L8.5 2.5l-.94 2.06-2.06.94zm10 10l.94 2.06.94-2.06 2.06-.94-2.06-.94-.94-2.06-.94 2.06-2.06.94z\"/><path d=\"M17.41 7.96l-1.37-1.37c-.4-.4-.92-.59-1.43-.59-.52 0-1.04.2-1.43.59L10.3 9.45l-7.72 7.72c-.78.78-.78 2.05 0 2.83L4 21.41c.39.39.9.59 1.41.59.51 0 1.02-.2 1.41-.59l7.78-7.78 2.81-2.81c.8-.78.8-2.07 0-2.86zM5.41 20L4 18.59l7.72-7.72 1.47 1.35L5.41 20z\"/>\n",
              "  </svg>\n",
              "      </button>\n",
              "      \n",
              "  <style>\n",
              "    .colab-df-container {\n",
              "      display:flex;\n",
              "      flex-wrap:wrap;\n",
              "      gap: 12px;\n",
              "    }\n",
              "\n",
              "    .colab-df-convert {\n",
              "      background-color: #E8F0FE;\n",
              "      border: none;\n",
              "      border-radius: 50%;\n",
              "      cursor: pointer;\n",
              "      display: none;\n",
              "      fill: #1967D2;\n",
              "      height: 32px;\n",
              "      padding: 0 0 0 0;\n",
              "      width: 32px;\n",
              "    }\n",
              "\n",
              "    .colab-df-convert:hover {\n",
              "      background-color: #E2EBFA;\n",
              "      box-shadow: 0px 1px 2px rgba(60, 64, 67, 0.3), 0px 1px 3px 1px rgba(60, 64, 67, 0.15);\n",
              "      fill: #174EA6;\n",
              "    }\n",
              "\n",
              "    [theme=dark] .colab-df-convert {\n",
              "      background-color: #3B4455;\n",
              "      fill: #D2E3FC;\n",
              "    }\n",
              "\n",
              "    [theme=dark] .colab-df-convert:hover {\n",
              "      background-color: #434B5C;\n",
              "      box-shadow: 0px 1px 3px 1px rgba(0, 0, 0, 0.15);\n",
              "      filter: drop-shadow(0px 1px 2px rgba(0, 0, 0, 0.3));\n",
              "      fill: #FFFFFF;\n",
              "    }\n",
              "  </style>\n",
              "\n",
              "      <script>\n",
              "        const buttonEl =\n",
              "          document.querySelector('#df-c88b88b7-266b-4cbe-9e65-72df02f8980d button.colab-df-convert');\n",
              "        buttonEl.style.display =\n",
              "          google.colab.kernel.accessAllowed ? 'block' : 'none';\n",
              "\n",
              "        async function convertToInteractive(key) {\n",
              "          const element = document.querySelector('#df-c88b88b7-266b-4cbe-9e65-72df02f8980d');\n",
              "          const dataTable =\n",
              "            await google.colab.kernel.invokeFunction('convertToInteractive',\n",
              "                                                     [key], {});\n",
              "          if (!dataTable) return;\n",
              "\n",
              "          const docLinkHtml = 'Like what you see? Visit the ' +\n",
              "            '<a target=\"_blank\" href=https://colab.research.google.com/notebooks/data_table.ipynb>data table notebook</a>'\n",
              "            + ' to learn more about interactive tables.';\n",
              "          element.innerHTML = '';\n",
              "          dataTable['output_type'] = 'display_data';\n",
              "          await google.colab.output.renderOutput(dataTable, element);\n",
              "          const docLink = document.createElement('div');\n",
              "          docLink.innerHTML = docLinkHtml;\n",
              "          element.appendChild(docLink);\n",
              "        }\n",
              "      </script>\n",
              "    </div>\n",
              "  </div>\n",
              "  "
            ]
          },
          "metadata": {},
          "execution_count": 58
        }
      ]
    },
    {
      "cell_type": "code",
      "source": [
        "##loading the dataset\n",
        "x_train = dataset.iloc[:, :-1]  # Select all columns except the last one\n",
        "y_train = dataset.iloc[:, -1]"
      ],
      "metadata": {
        "id": "jD8gcPuAgZFJ"
      },
      "execution_count": 53,
      "outputs": []
    },
    {
      "cell_type": "code",
      "source": [
        "## checking the dimentions of your variables\n",
        "print('Shape of x_train: ', x_train.shape)\n",
        "print('Shape of y_train: ', y_train.shape)\n",
        "print('Number of training examples', len(x_train))"
      ],
      "metadata": {
        "colab": {
          "base_uri": "https://localhost:8080/"
        },
        "id": "CNFni1O5gZQB",
        "outputId": "e4e00cb4-648e-446d-d5e1-9b7b2f68abaa"
      },
      "execution_count": 59,
      "outputs": [
        {
          "output_type": "stream",
          "name": "stdout",
          "text": [
            "Shape of x_train:  (96, 1)\n",
            "Shape of y_train:  (96, 1)\n",
            "Number of training examples 96\n"
          ]
        }
      ]
    },
    {
      "cell_type": "code",
      "source": [
        "## Create a scatter plot of the data. To change the markers to red \"x\",\n",
        "## we used the 'marker' and 'c' parameters (these are just graph visualization parameter use 'b' instead of 'r' and 'o' instaed of 'x')\n",
        "\n",
        "plt.scatter(x_train, y_train, marker='x', c='r')\n",
        "plt.title(\"Profits vs. Population per city\")\n",
        "plt.ylabel(\"Profit in $10,000\")\n",
        "plt.xlabel(\"Population of City in 10,000s\")\n",
        "plt.show()"
      ],
      "metadata": {
        "colab": {
          "base_uri": "https://localhost:8080/",
          "height": 472
        },
        "id": "bWvQJTVngZa7",
        "outputId": "f175e126-1d94-434a-9dce-70dd7b2354a6"
      },
      "execution_count": 60,
      "outputs": [
        {
          "output_type": "display_data",
          "data": {
            "text/plain": [
              "<Figure size 640x480 with 1 Axes>"
            ],
            "image/png": "[encoded data removed]"
          },
          "metadata": {}
        }
      ]
    },
    {
      "cell_type": "code",
      "source": [
        "def compute_cost(x, y, w, b):\n",
        "\n",
        "  \"\"\"\n",
        "  Compute the cost function for linear regression\n",
        "\n",
        "  args: \n",
        "    x (ndarray): Shape (m,) Input to the model (Population of citites)\n",
        "    y (ndarray): Shape (m, ) Label (Actual profits for the cities)\n",
        "    w, b (scalar): Parameters of the model (Q0, Q1)\n",
        "\n",
        "  Returns\n",
        "    total_cost(float): The cost of using w,b as the parameters for linear regression to fit the data points in x and y\n",
        "  \"\"\"\n",
        "  ## no of training examples\n",
        "  m=x.shape[0]\n",
        "\n",
        "  total_cost=0\n",
        "\n",
        "  cost_sum=0\n",
        "\n",
        "  # for i in range(m):\n",
        "  f_wb = w*x+b  #--h(x)\n",
        "  cost = (f_wb - y)**2\n",
        "  total_cost = (1/(2*m)) * np.sum(cost)    # --cost function\n",
        "\n",
        "  return total_cost"
      ],
      "metadata": {
        "id": "cWPoBBbngZl8"
      },
      "execution_count": 63,
      "outputs": []
    },
    {
      "cell_type": "code",
      "source": [
        "!pip install public_tests"
      ],
      "metadata": {
        "colab": {
          "base_uri": "https://localhost:8080/"
        },
        "id": "Ta861-_OmhpT",
        "outputId": "0ed54808-812a-4a59-8ab6-4d0164934a69"
      },
      "execution_count": 38,
      "outputs": [
        {
          "output_type": "stream",
          "name": "stdout",
          "text": [
            "Looking in indexes: https://pypi.org/simple, https://us-python.pkg.dev/colab-wheels/public/simple/\n",
            "\u001b[31mERROR: Could not find a version that satisfies the requirement public_tests (from versions: none)\u001b[0m\u001b[31m\n",
            "\u001b[0m\u001b[31mERROR: No matching distribution found for public_tests\u001b[0m\u001b[31m\n",
            "\u001b[0m"
          ]
        }
      ]
    },
    {
      "cell_type": "code",
      "source": [
        "x_train = np.array(x_train) \n",
        "y_train = np.array(y_train)\n",
        "# Compute cost with some initial values for paramaters w, b\n",
        "initial_w = 2\n",
        "initial_b = 1\n",
        "\n",
        "cost = compute_cost(x_train, y_train, initial_w, initial_b)\n",
        "print(type(cost))\n",
        "print(f'Cost at initial w: {cost:.3f}')\n",
        "\n",
        "# Public tests\n",
        "# from public_tests import *\n",
        "# compute_cost_test(compute_cost)"
      ],
      "metadata": {
        "colab": {
          "base_uri": "https://localhost:8080/"
        },
        "id": "cmyxLy9Umd1z",
        "outputId": "b9618bec-6569-42d2-e12b-08656c95d493"
      },
      "execution_count": 68,
      "outputs": [
        {
          "output_type": "stream",
          "name": "stdout",
          "text": [
            "<class 'numpy.float64'>\n",
            "Cost at initial w: 75.887\n"
          ]
        }
      ]
    },
    {
      "cell_type": "code",
      "source": [
        "def compute_gradientdes(x, y, w, b):\n",
        "\n",
        "  \"\"\"\n",
        "    Compute the gradient descent for Linear regression\n",
        "\n",
        "    Args: Same as of cost function\n",
        "\n",
        "    Returns:\n",
        "      Q0 (scalar) :The gradient of the cost  w.r.t the parameter w\n",
        "      Q1 (scalar) :The gradient of the cost  w.r.t the parameter b\n",
        "  \"\"\"\n",
        "\n",
        "  # no. of training examples\n",
        "  m = x.shape[0]\n",
        "\n",
        "  Q0=0 \n",
        "  Q1=0\n",
        "\n",
        "  for i in range(m):\n",
        "    f_wb = w*x[i]+b\n",
        "    Q0_i = (f_wb-y[i]) * x[i]\n",
        "    Q1_i = (f_wb-y[i])\n",
        "    Q0 += Q0_i\n",
        "    Q1 += Q1_i\n",
        "  \n",
        "  Q0 = Q0/m\n",
        "  Q1 = Q1/m\n",
        "\n",
        "  return Q0, Q1"
      ],
      "metadata": {
        "id": "LyIXRpdKgazX"
      },
      "execution_count": 40,
      "outputs": []
    },
    {
      "cell_type": "code",
      "source": [
        "# Run the cells below to check your implementation of the compute_gradient function with two different initializations of the parameters w, b\n",
        "# Compute and display gradient with w initialized to zeroes\n",
        "initial_w = 0\n",
        "initial_b = 0\n",
        "\n",
        "tmp_dj_dw, tmp_dj_db = compute_gradientdes(x_train, y_train, 0, 0)\n",
        "print('Gradient at initial w, b (zeros):', tmp_dj_dw, tmp_dj_db)\n",
        "\n",
        "# # Public tests\n",
        "# from public_tests import *"
      ],
      "metadata": {
        "colab": {
          "base_uri": "https://localhost:8080/"
        },
        "id": "Xhcvj_TLl55B",
        "outputId": "cd559eb7-a07e-41f4-88c8-1fa830948608"
      },
      "execution_count": 69,
      "outputs": [
        {
          "output_type": "stream",
          "name": "stdout",
          "text": [
            "Gradient at initial w, b (zeros): [-64.88968277] [-5.71670937]\n"
          ]
        }
      ]
    },
    {
      "cell_type": "code",
      "source": [
        "def gradient_descent(x, y, w_in, b_in, cost_function, gradient_function, alpha, num_iters):\n",
        "\n",
        "  \"\"\"\n",
        "  Performs batch  gradient descent to learn theta. Updates theta by taking num_iters gradient steps with learning rate alpha\n",
        "\n",
        "  Args:\n",
        "    x: (ndarray): Shape(m,)\n",
        "    y: (ndarray): Shape(m,)\n",
        "    w_in, b_in: (scalar) Initial values of parameters of the model \n",
        "    cost_function: function to compute cost\n",
        "    gradient_function: function to compute the gradient\n",
        "    alpha: (float) learning rate\n",
        "    num_iters: (int) number of iterations to run gradient descent\n",
        "  \n",
        "  Returns\n",
        "    w: (ndarray): Shape (1,) Updated values of parameters of the model after running gradient descent\n",
        "    b: Updated value of parameter of the model after running gradient descent\n",
        "  \"\"\"\n",
        "\n",
        "  # no. of training examples\n",
        "  m = len(x)\n",
        "\n",
        "  # An array to store cost J and w's at each iteration - primarily for graphing later\n",
        "  J_history = []\n",
        "  w_history = []\n",
        "\n",
        "  w = copy.deepcopy(w_in)  # avoid modifying global w within function\n",
        "  b = b_in\n",
        "\n",
        "  for i in range(num_iters):\n",
        "    # Calculate the gradient and update the parameters\n",
        "    dj_dw, dj_db = gradient_function(x, y, w, b)\n",
        "\n",
        "    # Update Parameters using w, b, alpha and gradient\n",
        "    w = w - alpha * dj_dw\n",
        "    b = b - alpha * dj_db\n",
        "\n",
        "    # Save cost J at each iteration\n",
        "    if i<100000:\n",
        "      cost = cost_function(x, y, w, b)\n",
        "      J_history.append(cost)\n",
        "\n",
        "    # Print cost every at intervals 10 times or as many iterations if < 10\n",
        "    if i%math.ceil(num_iters/10) == 0:\n",
        "      w_history.append(w)\n",
        "      print(f\"Iteration {i:4}: Cost {float(J_history[-1]):8.2f}\")\n",
        "    \n",
        "    return w, b, J_history, w_history   # -- return these values for graphing"
      ],
      "metadata": {
        "id": "-JHrJzF7gamP"
      },
      "execution_count": 70,
      "outputs": []
    },
    {
      "cell_type": "code",
      "source": [
        "# Running the gradient descent algo above to learn the parameters for our dataset\n",
        "\n",
        "# intialize fitting parameters. Recall that the shape of w is (n,)\n",
        "initial_w = 0\n",
        "initial_b = 0\n",
        "\n",
        "#some gradient descent settings\n",
        "iterations = 1500\n",
        "alpha = 0.01\n",
        "\n",
        "w, b, _, _ = gradient_descent(x_train, y_train, initial_w, initial_b, compute_cost, compute_gradientdes, alpha, iterations)\n",
        "print(\"w, b found by gradient descent: \", w, b)"
      ],
      "metadata": {
        "colab": {
          "base_uri": "https://localhost:8080/"
        },
        "id": "pifKHV5ThCky",
        "outputId": "590334a5-d63b-4749-92fa-7805c77eff6e"
      },
      "execution_count": 71,
      "outputs": [
        {
          "output_type": "stream",
          "name": "stdout",
          "text": [
            "Iteration    0: Cost     5.90\n",
            "w, b found by gradient descent:  [0.64889683] [0.05716709]\n"
          ]
        }
      ]
    },
    {
      "cell_type": "code",
      "source": [
        "m = x_train.shape[0]\n",
        "predicted = np.zeros(m)\n",
        "\n",
        "for i in range(m):\n",
        "    predicted[i] = w * x_train[i] + b"
      ],
      "metadata": {
        "id": "NVd0L-E3rF2k"
      },
      "execution_count": 72,
      "outputs": []
    },
    {
      "cell_type": "code",
      "source": [
        "# trained model\n",
        "plt.plot(x_train, predicted, c=\"b\")  #-- Plot the linear fit\n",
        "\n",
        "#Create a scatter plot of the data\n",
        "plt.scatter(x_train, y_train, marker='x', c='r')\n",
        "\n",
        "#set the title\n",
        "plt.title(\"Profits vs. Population per city\")\n",
        "plt.ylabel(\"Profit in $10,000\")\n",
        "plt.xlabel(\"Population of City in 10,000s\")\n",
        "plt.show()"
      ],
      "metadata": {
        "colab": {
          "base_uri": "https://localhost:8080/",
          "height": 472
        },
        "id": "C525BPcehCwm",
        "outputId": "2ab4f017-4acb-4f3a-f35e-c6a783f01664"
      },
      "execution_count": 73,
      "outputs": [
        {
          "output_type": "display_data",
          "data": {
            "text/plain": [
              "<Figure size 640x480 with 1 Axes>"
            ],
            "image/png": "[encoded data removed]"
          },
          "metadata": {}
        }
      ]
    },
    {
      "cell_type": "code",
      "source": [
        "# Your final values of \n",
        "#  can also be used to make predictions on profits. Let's predict what the profit would be in areas of 35,000 and 70,000 people.\n",
        "\n",
        "# The model takes in population of a city in 10,000s as input.\n",
        "\n",
        "# Therefore, 35,000 people can be translated into an input to the model as np.array([3.5])\n",
        "\n",
        "# Similarly, 70,000 people can be translated into an input to the model as np.array([7.])\n",
        "\n",
        "predict1 = 3.5 * w + b\n",
        "print('For population = 35,000, we predict a profit of $%.2f' % (predict1*10000))\n",
        "\n",
        "predict2 = 7.0 * w + b\n",
        "print('For population = 70,000, we predict a profit of $%.2f' % (predict2*10000))"
      ],
      "metadata": {
        "colab": {
          "base_uri": "https://localhost:8080/"
        },
        "id": "heysO-vThC77",
        "outputId": "7f228f4f-eba3-41c1-fdcd-9c245e8c50cc"
      },
      "execution_count": 74,
      "outputs": [
        {
          "output_type": "stream",
          "name": "stdout",
          "text": [
            "For population = 35,000, we predict a profit of $23283.06\n",
            "For population = 70,000, we predict a profit of $45994.45\n"
          ]
        }
      ]
    }
  ]
}